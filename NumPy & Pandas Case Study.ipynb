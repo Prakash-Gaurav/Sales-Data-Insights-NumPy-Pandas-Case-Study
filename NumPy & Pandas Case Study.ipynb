{
 "cells": [
  {
   "cell_type": "code",
   "execution_count": 1,
   "id": "666bb301-c087-4e6f-9751-e9422385b784",
   "metadata": {},
   "outputs": [
    {
     "data": {
      "text/html": [
       "<div>\n",
       "<style scoped>\n",
       "    .dataframe tbody tr th:only-of-type {\n",
       "        vertical-align: middle;\n",
       "    }\n",
       "\n",
       "    .dataframe tbody tr th {\n",
       "        vertical-align: top;\n",
       "    }\n",
       "\n",
       "    .dataframe thead th {\n",
       "        text-align: right;\n",
       "    }\n",
       "</style>\n",
       "<table border=\"1\" class=\"dataframe\">\n",
       "  <thead>\n",
       "    <tr style=\"text-align: right;\">\n",
       "      <th></th>\n",
       "      <th>OrderID</th>\n",
       "      <th>Date</th>\n",
       "      <th>Region</th>\n",
       "      <th>CustomerName</th>\n",
       "      <th>Product</th>\n",
       "      <th>Quantity</th>\n",
       "      <th>UnitPrice</th>\n",
       "      <th>TotalSales</th>\n",
       "      <th>PaymentMethod</th>\n",
       "    </tr>\n",
       "  </thead>\n",
       "  <tbody>\n",
       "    <tr>\n",
       "      <th>0</th>\n",
       "      <td>1001</td>\n",
       "      <td>2023-01-15</td>\n",
       "      <td>North</td>\n",
       "      <td>Alice Johnson</td>\n",
       "      <td>Laptop</td>\n",
       "      <td>2.0</td>\n",
       "      <td>700.0</td>\n",
       "      <td>1400.0</td>\n",
       "      <td>Credit Card</td>\n",
       "    </tr>\n",
       "    <tr>\n",
       "      <th>1</th>\n",
       "      <td>1002</td>\n",
       "      <td>2023-01-16</td>\n",
       "      <td>South</td>\n",
       "      <td>Rahul Mehta</td>\n",
       "      <td>Mobile Phone</td>\n",
       "      <td>5.0</td>\n",
       "      <td>300.0</td>\n",
       "      <td>1500.0</td>\n",
       "      <td>UPI</td>\n",
       "    </tr>\n",
       "    <tr>\n",
       "      <th>2</th>\n",
       "      <td>1003</td>\n",
       "      <td>2023-01-17</td>\n",
       "      <td>East</td>\n",
       "      <td>Fatima Noor</td>\n",
       "      <td>Headphones</td>\n",
       "      <td>10.0</td>\n",
       "      <td>50.0</td>\n",
       "      <td>500.0</td>\n",
       "      <td>Debit Card</td>\n",
       "    </tr>\n",
       "    <tr>\n",
       "      <th>3</th>\n",
       "      <td>1004</td>\n",
       "      <td>2023-01-18</td>\n",
       "      <td>West</td>\n",
       "      <td>NaN</td>\n",
       "      <td>Laptop</td>\n",
       "      <td>1.0</td>\n",
       "      <td>720.0</td>\n",
       "      <td>720.0</td>\n",
       "      <td>Credit Card</td>\n",
       "    </tr>\n",
       "    <tr>\n",
       "      <th>4</th>\n",
       "      <td>1005</td>\n",
       "      <td>2023-01-19</td>\n",
       "      <td>North</td>\n",
       "      <td>Zoe Carter</td>\n",
       "      <td>Mobile Phone</td>\n",
       "      <td>3.0</td>\n",
       "      <td>NaN</td>\n",
       "      <td>NaN</td>\n",
       "      <td>UPI</td>\n",
       "    </tr>\n",
       "  </tbody>\n",
       "</table>\n",
       "</div>"
      ],
      "text/plain": [
       "   OrderID        Date Region   CustomerName       Product  Quantity  \\\n",
       "0     1001  2023-01-15  North  Alice Johnson        Laptop       2.0   \n",
       "1     1002  2023-01-16  South    Rahul Mehta  Mobile Phone       5.0   \n",
       "2     1003  2023-01-17   East    Fatima Noor    Headphones      10.0   \n",
       "3     1004  2023-01-18   West            NaN        Laptop       1.0   \n",
       "4     1005  2023-01-19  North     Zoe Carter  Mobile Phone       3.0   \n",
       "\n",
       "   UnitPrice  TotalSales PaymentMethod  \n",
       "0      700.0      1400.0   Credit Card  \n",
       "1      300.0      1500.0           UPI  \n",
       "2       50.0       500.0    Debit Card  \n",
       "3      720.0       720.0   Credit Card  \n",
       "4        NaN         NaN           UPI  "
      ]
     },
     "execution_count": 1,
     "metadata": {},
     "output_type": "execute_result"
    }
   ],
   "source": [
    "import pandas as pd\n",
    "import numpy as np\n",
    "\n",
    "# Reading the csv\n",
    "df = pd.read_csv('sales_dataset.csv')\n",
    "df.head()"
   ]
  },
  {
   "cell_type": "code",
   "execution_count": 2,
   "id": "8a3f684e-4bc9-434e-86d1-748c362495bd",
   "metadata": {},
   "outputs": [
    {
     "name": "stdout",
     "output_type": "stream",
     "text": [
      "<class 'pandas.core.frame.DataFrame'>\n",
      "RangeIndex: 20 entries, 0 to 19\n",
      "Data columns (total 9 columns):\n",
      " #   Column         Non-Null Count  Dtype  \n",
      "---  ------         --------------  -----  \n",
      " 0   OrderID        20 non-null     int64  \n",
      " 1   Date           20 non-null     object \n",
      " 2   Region         20 non-null     object \n",
      " 3   CustomerName   18 non-null     object \n",
      " 4   Product        20 non-null     object \n",
      " 5   Quantity       19 non-null     float64\n",
      " 6   UnitPrice      18 non-null     float64\n",
      " 7   TotalSales     18 non-null     float64\n",
      " 8   PaymentMethod  20 non-null     object \n",
      "dtypes: float64(3), int64(1), object(5)\n",
      "memory usage: 1.5+ KB\n"
     ]
    }
   ],
   "source": [
    "#Getting the info of the csv or dataframe\n",
    "df.info()"
   ]
  },
  {
   "cell_type": "code",
   "execution_count": 3,
   "id": "a7c326ea-e3cd-4eff-b743-7aa6b126c6e0",
   "metadata": {},
   "outputs": [
    {
     "name": "stdout",
     "output_type": "stream",
     "text": [
      "OrderID          0\n",
      "Date             0\n",
      "Region           0\n",
      "CustomerName     2\n",
      "Product          0\n",
      "Quantity         1\n",
      "UnitPrice        2\n",
      "TotalSales       2\n",
      "PaymentMethod    0\n",
      "dtype: int64\n"
     ]
    }
   ],
   "source": [
    "# Checking null values and dropping them\n",
    "print(df.isnull().sum())"
   ]
  },
  {
   "cell_type": "code",
   "execution_count": 4,
   "id": "387db7b0-1f4c-433b-8c1e-9b510603fe7d",
   "metadata": {},
   "outputs": [
    {
     "data": {
      "text/plain": [
       "OrderID          0\n",
       "Date             0\n",
       "Region           0\n",
       "CustomerName     0\n",
       "Product          0\n",
       "Quantity         0\n",
       "UnitPrice        0\n",
       "TotalSales       0\n",
       "PaymentMethod    0\n",
       "dtype: int64"
      ]
     },
     "execution_count": 4,
     "metadata": {},
     "output_type": "execute_result"
    }
   ],
   "source": [
    "# Dropping the null values and rechecking\n",
    "df.dropna(inplace=True)\n",
    "df.isnull().sum()"
   ]
  },
  {
   "cell_type": "code",
   "execution_count": 5,
   "id": "b3f9fccc-4c8e-44e9-a462-b55e3ae9aec6",
   "metadata": {},
   "outputs": [
    {
     "data": {
      "text/plain": [
       "Region\n",
       "East     2520.0\n",
       "North    3765.0\n",
       "South    3830.0\n",
       "West      585.0\n",
       "Name: TotalSales, dtype: float64"
      ]
     },
     "execution_count": 5,
     "metadata": {},
     "output_type": "execute_result"
    }
   ],
   "source": [
    "# Sum of sales by region\n",
    "df.groupby('Region')['TotalSales'].sum()"
   ]
  },
  {
   "cell_type": "code",
   "execution_count": 6,
   "id": "8a548eac-9828-4808-8354-373bf723549e",
   "metadata": {},
   "outputs": [
    {
     "data": {
      "text/plain": [
       "Product\n",
       "Headphones       415.0\n",
       "Keyboard         342.5\n",
       "Laptop          1170.0\n",
       "Mobile Phone     897.5\n",
       "Monitor          492.5\n",
       "Smart Watch      200.0\n",
       "Tablet           900.0\n",
       "Name: TotalSales, dtype: float64"
      ]
     },
     "execution_count": 6,
     "metadata": {},
     "output_type": "execute_result"
    }
   ],
   "source": [
    "# Avg sales by each product\n",
    "df.groupby('Product')['TotalSales'].mean()"
   ]
  },
  {
   "cell_type": "code",
   "execution_count": 7,
   "id": "2407a418-e6a5-4dc5-92c3-b75297088e2f",
   "metadata": {},
   "outputs": [
    {
     "data": {
      "text/html": [
       "<div>\n",
       "<style scoped>\n",
       "    .dataframe tbody tr th:only-of-type {\n",
       "        vertical-align: middle;\n",
       "    }\n",
       "\n",
       "    .dataframe tbody tr th {\n",
       "        vertical-align: top;\n",
       "    }\n",
       "\n",
       "    .dataframe thead th {\n",
       "        text-align: right;\n",
       "    }\n",
       "</style>\n",
       "<table border=\"1\" class=\"dataframe\">\n",
       "  <thead>\n",
       "    <tr style=\"text-align: right;\">\n",
       "      <th></th>\n",
       "      <th>Product</th>\n",
       "      <th>TotalSales</th>\n",
       "    </tr>\n",
       "  </thead>\n",
       "  <tbody>\n",
       "    <tr>\n",
       "      <th>0</th>\n",
       "      <td>Headphones</td>\n",
       "      <td>830.0</td>\n",
       "    </tr>\n",
       "    <tr>\n",
       "      <th>1</th>\n",
       "      <td>Keyboard</td>\n",
       "      <td>685.0</td>\n",
       "    </tr>\n",
       "    <tr>\n",
       "      <th>2</th>\n",
       "      <td>Laptop</td>\n",
       "      <td>3510.0</td>\n",
       "    </tr>\n",
       "    <tr>\n",
       "      <th>3</th>\n",
       "      <td>Mobile Phone</td>\n",
       "      <td>3590.0</td>\n",
       "    </tr>\n",
       "    <tr>\n",
       "      <th>4</th>\n",
       "      <td>Monitor</td>\n",
       "      <td>985.0</td>\n",
       "    </tr>\n",
       "    <tr>\n",
       "      <th>5</th>\n",
       "      <td>Smart Watch</td>\n",
       "      <td>200.0</td>\n",
       "    </tr>\n",
       "    <tr>\n",
       "      <th>6</th>\n",
       "      <td>Tablet</td>\n",
       "      <td>900.0</td>\n",
       "    </tr>\n",
       "  </tbody>\n",
       "</table>\n",
       "</div>"
      ],
      "text/plain": [
       "        Product  TotalSales\n",
       "0    Headphones       830.0\n",
       "1      Keyboard       685.0\n",
       "2        Laptop      3510.0\n",
       "3  Mobile Phone      3590.0\n",
       "4       Monitor       985.0\n",
       "5   Smart Watch       200.0\n",
       "6        Tablet       900.0"
      ]
     },
     "execution_count": 7,
     "metadata": {},
     "output_type": "execute_result"
    }
   ],
   "source": [
    "# Claculating total sales by each product\n",
    "product_sales = df.groupby('Product')['TotalSales'].sum().reset_index()\n",
    "product_sales"
   ]
  },
  {
   "cell_type": "code",
   "execution_count": 8,
   "id": "32d88b3f-8d99-4344-b43f-433b7fcdd67f",
   "metadata": {},
   "outputs": [
    {
     "name": "stdout",
     "output_type": "stream",
     "text": [
      "The highest selling product is:\n",
      " Product       Mobile Phone\n",
      "TotalSales          3590.0\n",
      "Name: 3, dtype: object\n",
      "\n",
      "The lowest selling product is:\n",
      " Product       Smart Watch\n",
      "TotalSales          200.0\n",
      "Name: 5, dtype: object\n"
     ]
    }
   ],
   "source": [
    "# Highest & lowest selling product\n",
    "Highest_Selling_Product = product_sales.loc[product_sales['TotalSales'].idxmax()]\n",
    "Lowest_Selling_Product = product_sales.loc[product_sales['TotalSales'].idxmin()]\n",
    "\n",
    "print(f\"The highest selling product is:\\n {Highest_Selling_Product}\\n\\nThe lowest selling product is:\\n {Lowest_Selling_Product}\")"
   ]
  },
  {
   "cell_type": "markdown",
   "id": "5223fdfc-ac1e-4676-ae88-ec4f5e3dae92",
   "metadata": {},
   "source": [
    "**We can also do this way:**"
   ]
  },
  {
   "cell_type": "code",
   "execution_count": 10,
   "id": "af5bbd3b-5aa1-4227-ba37-07438593b202",
   "metadata": {},
   "outputs": [
    {
     "data": {
      "text/plain": [
       "Product\n",
       "Mobile Phone    3590.0\n",
       "Name: TotalSales, dtype: float64"
      ]
     },
     "execution_count": 10,
     "metadata": {},
     "output_type": "execute_result"
    }
   ],
   "source": [
    "# Find the highest selling product\n",
    "highest_selling_product = df.groupby('Product')['TotalSales'].sum().nlargest(1)\n",
    "highest_selling_product"
   ]
  },
  {
   "cell_type": "code",
   "execution_count": 11,
   "id": "b098dfad-62eb-4b0d-b53f-031ea5bbb2f6",
   "metadata": {},
   "outputs": [
    {
     "data": {
      "text/plain": [
       "Product\n",
       "Smart Watch    200.0\n",
       "Name: TotalSales, dtype: float64"
      ]
     },
     "execution_count": 11,
     "metadata": {},
     "output_type": "execute_result"
    }
   ],
   "source": [
    "# Find the lowest selling product\n",
    "Lowest_selling_product = df.groupby('Product')['TotalSales'].sum().nsmallest(1)\n",
    "Lowest_selling_product"
   ]
  },
  {
   "cell_type": "code",
   "execution_count": 34,
   "id": "5bbf21bf-a0ec-47d5-907d-f12be7c4ec22",
   "metadata": {},
   "outputs": [
    {
     "name": "stdout",
     "output_type": "stream",
     "text": [
      "Mean:\n",
      "Quantity        3.200000\n",
      "UnitPrice     310.000000\n",
      "TotalSales    713.333333\n",
      "dtype: float64\n",
      "------------------------\n",
      "\n",
      "Median:\n",
      "Quantity        2.0\n",
      "UnitPrice     290.0\n",
      "TotalSales    585.0\n",
      "dtype: float64\n",
      "------------------------\n",
      "\n",
      "Standard Deviation:\n",
      "Quantity        2.396426\n",
      "UnitPrice     230.666735\n",
      "TotalSales    451.559467\n",
      "dtype: float64\n",
      "------------------------\n"
     ]
    }
   ],
   "source": [
    "# Use NumPy to calculate mean, median, standard deviation of numerical fields.\n",
    "\n",
    "# Select numerical columns\n",
    "numerical_columns = df.select_dtypes(include=np.number).columns\n",
    "\n",
    "# Dropping orderID as it of low importance\n",
    "numerical_columns = numerical_columns.drop(\"OrderID\")\n",
    "\n",
    "# Calculating mean, median, and standard deviation for each numerical column\n",
    "mean_values = df[numerical_columns].mean()\n",
    "print(f\"Mean:\\n{mean_values}\")\n",
    "print(\"------------------------\")\n",
    "\n",
    "median_values = df[numerical_columns].median()\n",
    "print(f\"\\nMedian:\\n{median_values}\")\n",
    "print(\"------------------------\")\n",
    "\n",
    "std_dev_values = df[numerical_columns].std()\n",
    "print(f\"\\nStandard Deviation:\\n{std_dev_values}\")\n",
    "print(\"------------------------\")"
   ]
  }
 ],
 "metadata": {
  "kernelspec": {
   "display_name": "Python [conda env:base] *",
   "language": "python",
   "name": "conda-base-py"
  },
  "language_info": {
   "codemirror_mode": {
    "name": "ipython",
    "version": 3
   },
   "file_extension": ".py",
   "mimetype": "text/x-python",
   "name": "python",
   "nbconvert_exporter": "python",
   "pygments_lexer": "ipython3",
   "version": "3.12.7"
  }
 },
 "nbformat": 4,
 "nbformat_minor": 5
}
